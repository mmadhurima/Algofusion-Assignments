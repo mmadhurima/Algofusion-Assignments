{
 "cells": [
  {
   "cell_type": "markdown",
   "id": "2784b8ef",
   "metadata": {},
   "source": [
    "# List comparisions with if statement"
   ]
  },
  {
   "cell_type": "code",
   "execution_count": 1,
   "id": "ea63c1f9",
   "metadata": {},
   "outputs": [
    {
     "data": {
      "text/plain": [
       "[11, 12, 13, 14, 15]"
      ]
     },
     "execution_count": 1,
     "metadata": {},
     "output_type": "execute_result"
    }
   ],
   "source": [
    "list1=[11,12,13,14,15]\n",
    "list1"
   ]
  },
  {
   "cell_type": "code",
   "execution_count": 2,
   "id": "821edc33",
   "metadata": {},
   "outputs": [
    {
     "data": {
      "text/plain": [
       "5"
      ]
     },
     "execution_count": 2,
     "metadata": {},
     "output_type": "execute_result"
    }
   ],
   "source": [
    "l=len(list1)\n",
    "l"
   ]
  },
  {
   "cell_type": "code",
   "execution_count": 3,
   "id": "d2955710",
   "metadata": {},
   "outputs": [
    {
     "data": {
      "text/plain": [
       "[12, 14, 16, 18, 20]"
      ]
     },
     "execution_count": 3,
     "metadata": {},
     "output_type": "execute_result"
    }
   ],
   "source": [
    "list2 = [x for x in range(11,21) if x%2==0]           # list comparision with one if statement\n",
    "list2"
   ]
  },
  {
   "cell_type": "code",
   "execution_count": 4,
   "id": "4699db9c",
   "metadata": {},
   "outputs": [
    {
     "data": {
      "text/plain": [
       "['#',\n",
       " '*',\n",
       " '#',\n",
       " '*',\n",
       " '#',\n",
       " '*',\n",
       " '#',\n",
       " '*',\n",
       " '#',\n",
       " '*',\n",
       " '#',\n",
       " '*',\n",
       " '#',\n",
       " '*',\n",
       " '#',\n",
       " '*',\n",
       " '#',\n",
       " '*',\n",
       " '#']"
      ]
     },
     "execution_count": 4,
     "metadata": {},
     "output_type": "execute_result"
    }
   ],
   "source": [
    "list3=['*' if x%2==0 else \"#\" for x in range(1,20)]      # list comparision with if else statement\n",
    "list3"
   ]
  },
  {
   "cell_type": "code",
   "execution_count": 5,
   "id": "28637b59",
   "metadata": {},
   "outputs": [
    {
     "data": {
      "text/plain": [
       "[1, 2, 3, 4, 5, 6, 7, 8, 9]"
      ]
     },
     "execution_count": 5,
     "metadata": {},
     "output_type": "execute_result"
    }
   ],
   "source": [
    "list4 = [x for x  in range(10) if  x!=0]\n",
    "list4"
   ]
  },
  {
   "cell_type": "code",
   "execution_count": 7,
   "id": "ba6eac88",
   "metadata": {},
   "outputs": [
    {
     "data": {
      "text/plain": [
       "[0, 4, 8]"
      ]
     },
     "execution_count": 7,
     "metadata": {},
     "output_type": "execute_result"
    }
   ],
   "source": [
    "\n",
    "list5 = [x   for x in range(10) if x%2==0 if x%4==0]      # list comparision with multiple if statement\n",
    "list5"
   ]
  },
  {
   "cell_type": "markdown",
   "id": "ab99f0d6",
   "metadata": {},
   "source": [
    "# lambda function"
   ]
  },
  {
   "cell_type": "code",
   "execution_count": 8,
   "id": "e7bd0b18",
   "metadata": {},
   "outputs": [],
   "source": [
    "# lambda function is a function which takes many values with one statements"
   ]
  },
  {
   "cell_type": "code",
   "execution_count": 21,
   "id": "9589993e",
   "metadata": {},
   "outputs": [
    {
     "name": "stdout",
     "output_type": "stream",
     "text": [
      "4\n"
     ]
    }
   ],
   "source": [
    "c= lambda a,b : a*b\n",
    "print(c(2,2))"
   ]
  },
  {
   "cell_type": "code",
   "execution_count": 23,
   "id": "f717fae8",
   "metadata": {},
   "outputs": [
    {
     "data": {
      "text/plain": [
       "'MADHU'"
      ]
     },
     "execution_count": 23,
     "metadata": {},
     "output_type": "execute_result"
    }
   ],
   "source": [
    "a = lambda s1: s1.upper()\n",
    "a(\"madhu\")"
   ]
  },
  {
   "cell_type": "code",
   "execution_count": 33,
   "id": "6b5649f0",
   "metadata": {},
   "outputs": [
    {
     "data": {
      "text/plain": [
       "20"
      ]
     },
     "execution_count": 33,
     "metadata": {},
     "output_type": "execute_result"
    }
   ],
   "source": [
    "f1 = lambda a,b: a if a>b else b\n",
    "f1(10,20)"
   ]
  },
  {
   "cell_type": "code",
   "execution_count": 34,
   "id": "85579af7",
   "metadata": {},
   "outputs": [
    {
     "data": {
      "text/plain": [
       "[1, 2, 3, 4, 6, 9]"
      ]
     },
     "execution_count": 34,
     "metadata": {},
     "output_type": "execute_result"
    }
   ],
   "source": [
    "l1=[2,3,1,4,6,9]\n",
    "s=lambda x: sorted(x)\n",
    "s(l1)"
   ]
  },
  {
   "cell_type": "markdown",
   "id": "ad8fc7d0",
   "metadata": {},
   "source": [
    "## lambda function with filter()"
   ]
  },
  {
   "cell_type": "code",
   "execution_count": 35,
   "id": "890cb776",
   "metadata": {},
   "outputs": [
    {
     "data": {
      "text/plain": [
       "False"
      ]
     },
     "execution_count": 35,
     "metadata": {},
     "output_type": "execute_result"
    }
   ],
   "source": [
    "# without using filter() it just returns true or false\n",
    "f2 = lambda x : x%2!=0\n",
    "f2(10)"
   ]
  },
  {
   "cell_type": "code",
   "execution_count": 42,
   "id": "e39cf033",
   "metadata": {},
   "outputs": [
    {
     "data": {
      "text/plain": [
       "[99, 33, 11, 77, 99]"
      ]
     },
     "execution_count": 42,
     "metadata": {},
     "output_type": "execute_result"
    }
   ],
   "source": [
    "# By using filter() it gives the odd elements presented in it.\n",
    "# this is useful while working with lists\n",
    "\n",
    "l1 = [99,33,22,66,11,77,99,100]\n",
    "f3 = list(filter(lambda x : x%2!=0 , l1))    # filter() must contain two arguments in it, second argument it self is a data we are providing so that no need to call at last\n",
    "f3"
   ]
  },
  {
   "cell_type": "code",
   "execution_count": 48,
   "id": "2684ffae",
   "metadata": {},
   "outputs": [
    {
     "data": {
      "text/plain": [
       "[6, 7, 8, 9, 10]"
      ]
     },
     "execution_count": 48,
     "metadata": {},
     "output_type": "execute_result"
    }
   ],
   "source": [
    "l2 = [1,2,3,4,5,6,7,8,9,10]\n",
    "f4 = list(filter(lambda x :  x>5 , l2))    # the whole list values can't changed here\n",
    "f4"
   ]
  },
  {
   "cell_type": "markdown",
   "id": "3b09f904",
   "metadata": {},
   "source": [
    "## lambda function with map()"
   ]
  },
  {
   "cell_type": "code",
   "execution_count": 49,
   "id": "12b854f8",
   "metadata": {},
   "outputs": [],
   "source": [
    "# whole list can be changed here \n",
    "# contains two arguments lambda function and list"
   ]
  },
  {
   "cell_type": "code",
   "execution_count": 50,
   "id": "d179b28d",
   "metadata": {},
   "outputs": [
    {
     "data": {
      "text/plain": [
       "[10, 20, 30, 40, 50]"
      ]
     },
     "execution_count": 50,
     "metadata": {},
     "output_type": "execute_result"
    }
   ],
   "source": [
    "l1 = [1,2,3,4,5]\n",
    "f5 = list(map(lambda x : x*10,l1))\n",
    "f5"
   ]
  },
  {
   "cell_type": "code",
   "execution_count": 58,
   "id": "16bfe890",
   "metadata": {},
   "outputs": [
    {
     "data": {
      "text/plain": [
       "[1, 0, 1, 0, 1]"
      ]
     },
     "execution_count": 58,
     "metadata": {},
     "output_type": "execute_result"
    }
   ],
   "source": [
    "f6 = list(map(lambda x : x%2, l1)) \n",
    "f6"
   ]
  },
  {
   "cell_type": "code",
   "execution_count": 57,
   "id": "910f84d7",
   "metadata": {},
   "outputs": [
    {
     "data": {
      "text/plain": [
       "['MAADHU', 'RIMA', 'MEDAM']"
      ]
     },
     "execution_count": 57,
     "metadata": {},
     "output_type": "execute_result"
    }
   ],
   "source": [
    "s1 = [\"maadhu\",\"rima\",\"medam\"]\n",
    "f7 = list(map(lambda x : x.upper(),s1))\n",
    "f7"
   ]
  },
  {
   "cell_type": "markdown",
   "id": "44254b92",
   "metadata": {},
   "source": [
    "## lambda function with reduce()"
   ]
  },
  {
   "cell_type": "code",
   "execution_count": 61,
   "id": "303ac085",
   "metadata": {},
   "outputs": [
    {
     "data": {
      "text/plain": [
       "-13"
      ]
     },
     "execution_count": 61,
     "metadata": {},
     "output_type": "execute_result"
    }
   ],
   "source": [
    "from functools import reduce\n",
    "l1 = [1,2,3,4,5]\n",
    "sum = reduce((lambda x,y : x-y),l1)\n",
    "sum"
   ]
  },
  {
   "cell_type": "code",
   "execution_count": 63,
   "id": "4318b53c",
   "metadata": {},
   "outputs": [
    {
     "data": {
      "text/plain": [
       "15"
      ]
     },
     "execution_count": 63,
     "metadata": {},
     "output_type": "execute_result"
    }
   ],
   "source": [
    "sum = reduce((lambda x,y : x+y),l1)\n",
    "sum"
   ]
  },
  {
   "cell_type": "code",
   "execution_count": 64,
   "id": "3b96428c",
   "metadata": {},
   "outputs": [
    {
     "data": {
      "text/plain": [
       "120"
      ]
     },
     "execution_count": 64,
     "metadata": {},
     "output_type": "execute_result"
    }
   ],
   "source": [
    "sum = reduce((lambda x,y : x*y),l1)\n",
    "sum"
   ]
  },
  {
   "cell_type": "code",
   "execution_count": 65,
   "id": "dc70a9c8",
   "metadata": {},
   "outputs": [
    {
     "data": {
      "text/plain": [
       "5"
      ]
     },
     "execution_count": 65,
     "metadata": {},
     "output_type": "execute_result"
    }
   ],
   "source": [
    "f8 = reduce((lambda x,y : x if x>y else y),l1)\n",
    "f8"
   ]
  },
  {
   "cell_type": "code",
   "execution_count": null,
   "id": "9d63f22d",
   "metadata": {},
   "outputs": [],
   "source": []
  },
  {
   "cell_type": "markdown",
   "id": "c7cb5d51",
   "metadata": {},
   "source": [
    "# zip()"
   ]
  },
  {
   "cell_type": "markdown",
   "id": "8ba7d0ba",
   "metadata": {},
   "source": [
    "### zip() will works on iterables  lists , tuples  .......it will pairs together"
   ]
  },
  {
   "cell_type": "code",
   "execution_count": 76,
   "id": "818ef1da",
   "metadata": {},
   "outputs": [],
   "source": [
    "\n",
    "l1 = (\"Madhurima\",\"sindhu\",\"ajay\")\n",
    "l2 = (\"medam\",\"parnati\",\"kulla\")\n",
    "a=zip(l1,l2)\n"
   ]
  },
  {
   "cell_type": "code",
   "execution_count": 74,
   "id": "a9f551d5",
   "metadata": {},
   "outputs": [
    {
     "data": {
      "text/plain": [
       "[('Madhurima', 'medam'), ('sindhu', 'parnati'), ('ajay', 'kulla')]"
      ]
     },
     "execution_count": 74,
     "metadata": {},
     "output_type": "execute_result"
    }
   ],
   "source": [
    "list(a)"
   ]
  },
  {
   "cell_type": "code",
   "execution_count": 77,
   "id": "71b19209",
   "metadata": {},
   "outputs": [
    {
     "data": {
      "text/plain": [
       "(('Madhurima', 'medam'), ('sindhu', 'parnati'), ('ajay', 'kulla'))"
      ]
     },
     "execution_count": 77,
     "metadata": {},
     "output_type": "execute_result"
    }
   ],
   "source": [
    "tuple(a)"
   ]
  },
  {
   "cell_type": "code",
   "execution_count": 84,
   "id": "f5876662",
   "metadata": {},
   "outputs": [],
   "source": [
    "l1 = [1,2,3,4,5]\n",
    "l2 = ['M','A','D']\n",
    "b=zip(l1,l2)\n"
   ]
  },
  {
   "cell_type": "code",
   "execution_count": 85,
   "id": "f887a336",
   "metadata": {},
   "outputs": [
    {
     "data": {
      "text/plain": [
       "((1, 'M'), (2, 'A'), (3, 'D'))"
      ]
     },
     "execution_count": 85,
     "metadata": {},
     "output_type": "execute_result"
    }
   ],
   "source": [
    "tuple(b)             "
   ]
  },
  {
   "cell_type": "code",
   "execution_count": 87,
   "id": "13d5053a",
   "metadata": {},
   "outputs": [
    {
     "data": {
      "text/plain": [
       "[(1, 11, 'a'), (2, 22, 'b'), (3, 33, 'c')]"
      ]
     },
     "execution_count": 87,
     "metadata": {},
     "output_type": "execute_result"
    }
   ],
   "source": [
    "t1 = (1,2,3,4,5)\n",
    "t2 = (11,22,33,44)\n",
    "t3 = ('a','b','c')\n",
    "c=zip(t1,t2,t3)\n",
    "list(c)"
   ]
  },
  {
   "cell_type": "code",
   "execution_count": null,
   "id": "50e24e51",
   "metadata": {},
   "outputs": [],
   "source": []
  }
 ],
 "metadata": {
  "kernelspec": {
   "display_name": "Python 3 (ipykernel)",
   "language": "python",
   "name": "python3"
  },
  "language_info": {
   "codemirror_mode": {
    "name": "ipython",
    "version": 3
   },
   "file_extension": ".py",
   "mimetype": "text/x-python",
   "name": "python",
   "nbconvert_exporter": "python",
   "pygments_lexer": "ipython3",
   "version": "3.10.9"
  }
 },
 "nbformat": 4,
 "nbformat_minor": 5
}
