{
 "cells": [
  {
   "cell_type": "markdown",
   "id": "8c0a0c08",
   "metadata": {},
   "source": [
    "### user defind function to remove punctation marks Task-1"
   ]
  },
  {
   "cell_type": "code",
   "execution_count": 4,
   "id": "c951241f",
   "metadata": {},
   "outputs": [
    {
     "name": "stdout",
     "output_type": "stream",
     "text": [
      "Newspapers are the mirror of the world. It plays an important role in modern civilization. Newspapers are published in different languages ​​in our country. It helps us to gain common sense. Provides reviews and puzzles on newspaper reports, speeches, business, movies, sports, etc. Newspapers are read for both profit and pleasure. It brings to the public valuable perspectives, acts of injustice, oppression and maladministration. It angered the people and criticized the authorities for their failures. It forms public opinion. Therefore freedom of the press should not be hampered.\n",
      "          word  no of occurences\n",
      "0   Newspapers                 3\n",
      "1          are                 3\n",
      "2          the                 6\n",
      "3       mirror                 1\n",
      "4           of                 3\n",
      "..         ...               ...\n",
      "61       press                 1\n",
      "62      should                 1\n",
      "63         not                 1\n",
      "64          be                 1\n",
      "65    hampered                 1\n",
      "\n",
      "[66 rows x 2 columns]\n"
     ]
    }
   ],
   "source": [
    "import pandas as pd\n",
    "\n",
    "def remove_punc(x):\n",
    "    punc = '''!\"#$%&\\'()*+,-./:;<=>?@[\\\\]^_`{|}~'''\n",
    "    str2 = \"\"\n",
    "    for char in x:\n",
    "        if char not in punc:\n",
    "            str2 = str2 + char\n",
    "    return str2\n",
    "\n",
    "def word_split(y):\n",
    "    L1 = y.split()\n",
    "    return(L1)\n",
    "\n",
    "def word_dict(x):\n",
    "    d1={}\n",
    "    for i in x:\n",
    "        j=x.count(i)\n",
    "        d1.update({i:j})\n",
    "    return d1\n",
    "\n",
    "def word_freq_table(d1):\n",
    "    import pandas as pd\n",
    "    df=pd.DataFrame({'word':list(d1.keys()),'no of occurences':list(d1.values())})    \n",
    "    return df\n",
    "\n",
    "if __name__ == \"__main__\":\n",
    "    str1=input()\n",
    "    str2 = remove_punc(str1)\n",
    "    L1 = word_split(str2)\n",
    "    d1= word_dict(L1)\n",
    "    word_frequency_df = word_freq_table(d1)\n",
    "    print(word_frequency_df)\n",
    "    "
   ]
  },
  {
   "cell_type": "code",
   "execution_count": null,
   "id": "059d01fa",
   "metadata": {},
   "outputs": [],
   "source": []
  }
 ],
 "metadata": {
  "kernelspec": {
   "display_name": "Python 3 (ipykernel)",
   "language": "python",
   "name": "python3"
  },
  "language_info": {
   "codemirror_mode": {
    "name": "ipython",
    "version": 3
   },
   "file_extension": ".py",
   "mimetype": "text/x-python",
   "name": "python",
   "nbconvert_exporter": "python",
   "pygments_lexer": "ipython3",
   "version": "3.10.9"
  }
 },
 "nbformat": 4,
 "nbformat_minor": 5
}
