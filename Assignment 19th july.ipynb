{
 "cells": [
  {
   "cell_type": "markdown",
   "id": "686044ef",
   "metadata": {},
   "source": [
    "## Task 1"
   ]
  },
  {
   "cell_type": "markdown",
   "id": "895a6bd2",
   "metadata": {},
   "source": [
    "fname=input()\n",
    "lname=input()\n",
    "print(fname + \" \" + lname)"
   ]
  },
  {
   "cell_type": "code",
   "execution_count": 19,
   "id": "b5cdbbfa",
   "metadata": {},
   "outputs": [
    {
     "name": "stdout",
     "output_type": "stream",
     "text": [
      "M.Madhurima\n"
     ]
    }
   ],
   "source": [
    "surname=lname[0].upper()\n",
    "print(surname + \".\" + fname)"
   ]
  },
  {
   "cell_type": "code",
   "execution_count": 21,
   "id": "a949222f",
   "metadata": {},
   "outputs": [],
   "source": [
    "name = fname + \" \" + lname"
   ]
  },
  {
   "cell_type": "code",
   "execution_count": 22,
   "id": "2654d361",
   "metadata": {},
   "outputs": [
    {
     "data": {
      "text/plain": [
       "'Madhurima Medam'"
      ]
     },
     "execution_count": 22,
     "metadata": {},
     "output_type": "execute_result"
    }
   ],
   "source": [
    "name"
   ]
  },
  {
   "cell_type": "code",
   "execution_count": 23,
   "id": "f9c9aed8",
   "metadata": {},
   "outputs": [],
   "source": [
    "final = name[:15]"
   ]
  },
  {
   "cell_type": "code",
   "execution_count": 24,
   "id": "62b641eb",
   "metadata": {},
   "outputs": [
    {
     "data": {
      "text/plain": [
       "'Madhurima Medam'"
      ]
     },
     "execution_count": 24,
     "metadata": {},
     "output_type": "execute_result"
    }
   ],
   "source": [
    "final"
   ]
  },
  {
   "cell_type": "markdown",
   "id": "d9bba889",
   "metadata": {},
   "source": [
    "## Task 2"
   ]
  },
  {
   "cell_type": "code",
   "execution_count": 6,
   "id": "f9bbd353",
   "metadata": {},
   "outputs": [],
   "source": [
    "str1 = \"The computer is a miraculous scientific invention. It can store data and perform complex calculations in a very short period of time. Its primary characteristics are speed and accuracy. As a result, computers facilitate quick transactions and communication. It’s now common in schools, colleges, libraries, hospitals, offices, and banks. It is used in factories to save manual and mental labour as well as for quality control. It is also used in various fields of research, such as space research. Computer courses at various levels are now being introduced in schools and colleges. The use of computers in specific fields is required for efficient service.\""
   ]
  },
  {
   "cell_type": "code",
   "execution_count": 7,
   "id": "a8cf7aed",
   "metadata": {},
   "outputs": [
    {
     "data": {
      "text/plain": [
       "'The computer is a miraculous scientific invention. It can store data and perform complex calculations in a very short period of time. Its primary characteristics are speed and accuracy. As a result, computers facilitate quick transactions and communication. It’s now common in schools, colleges, libraries, hospitals, offices, and banks. It is used in factories to save manual and mental labour as well as for quality control. It is also used in various fields of research, such as space research. Computer courses at various levels are now being introduced in schools and colleges. The use of computers in specific fields is required for efficient service.'"
      ]
     },
     "execution_count": 7,
     "metadata": {},
     "output_type": "execute_result"
    }
   ],
   "source": [
    "str1"
   ]
  },
  {
   "cell_type": "code",
   "execution_count": 8,
   "id": "5d0056ed",
   "metadata": {},
   "outputs": [
    {
     "data": {
      "text/plain": [
       "657"
      ]
     },
     "execution_count": 8,
     "metadata": {},
     "output_type": "execute_result"
    }
   ],
   "source": [
    "l = len(str1)\n",
    "l"
   ]
  },
  {
   "cell_type": "code",
   "execution_count": 9,
   "id": "0ebe822c",
   "metadata": {},
   "outputs": [
    {
     "data": {
      "text/plain": [
       "'!\"#$%&\\'()*+,-./:;<=>?@[\\\\]^_`{|}~'"
      ]
     },
     "execution_count": 9,
     "metadata": {},
     "output_type": "execute_result"
    }
   ],
   "source": [
    "import string\n",
    "p = string.punctuation\n",
    "p"
   ]
  },
  {
   "cell_type": "code",
   "execution_count": 11,
   "id": "08e66bab",
   "metadata": {},
   "outputs": [
    {
     "data": {
      "text/plain": [
       "['!',\n",
       " '\"',\n",
       " '#',\n",
       " '$',\n",
       " '%',\n",
       " '&',\n",
       " \"'\",\n",
       " '(',\n",
       " ')',\n",
       " '*',\n",
       " '+',\n",
       " ',',\n",
       " '-',\n",
       " '.',\n",
       " '/',\n",
       " ':',\n",
       " ';',\n",
       " '<',\n",
       " '=',\n",
       " '>',\n",
       " '?',\n",
       " '@',\n",
       " '[',\n",
       " '\\\\',\n",
       " ']',\n",
       " '^',\n",
       " '_',\n",
       " '`',\n",
       " '{',\n",
       " '|',\n",
       " '}',\n",
       " '~']"
      ]
     },
     "execution_count": 11,
     "metadata": {},
     "output_type": "execute_result"
    }
   ],
   "source": [
    "lst=list(p)\n",
    "lst"
   ]
  },
  {
   "cell_type": "code",
   "execution_count": 12,
   "id": "31fc1ac1",
   "metadata": {},
   "outputs": [],
   "source": [
    "for i in str1:\n",
    "    if i in lst:\n",
    "       str1 = str1.replace(i,\"\")\n",
    "    "
   ]
  },
  {
   "cell_type": "code",
   "execution_count": 13,
   "id": "50108375",
   "metadata": {},
   "outputs": [
    {
     "data": {
      "text/plain": [
       "'The computer is a miraculous scientific invention It can store data and perform complex calculations in a very short period of time Its primary characteristics are speed and accuracy As a result computers facilitate quick transactions and communication It’s now common in schools colleges libraries hospitals offices and banks It is used in factories to save manual and mental labour as well as for quality control It is also used in various fields of research such as space research Computer courses at various levels are now being introduced in schools and colleges The use of computers in specific fields is required for efficient service'"
      ]
     },
     "execution_count": 13,
     "metadata": {},
     "output_type": "execute_result"
    }
   ],
   "source": [
    "str1"
   ]
  },
  {
   "cell_type": "code",
   "execution_count": 14,
   "id": "e9abaf0f",
   "metadata": {},
   "outputs": [],
   "source": [
    "lst1 = str1.split()"
   ]
  },
  {
   "cell_type": "code",
   "execution_count": 19,
   "id": "99a1fc91",
   "metadata": {},
   "outputs": [
    {
     "name": "stdout",
     "output_type": "stream",
     "text": [
      "['The', 'computer', 'is', 'a', 'miraculous', 'scientific', 'invention', 'It', 'can', 'store', 'data', 'and', 'perform', 'complex', 'calculations', 'in', 'a', 'very', 'short', 'period', 'of', 'time', 'Its', 'primary', 'characteristics', 'are', 'speed', 'and', 'accuracy', 'As', 'a', 'result', 'computers', 'facilitate', 'quick', 'transactions', 'and', 'communication', 'It’s', 'now', 'common', 'in', 'schools', 'colleges', 'libraries', 'hospitals', 'offices', 'and', 'banks', 'It', 'is', 'used', 'in', 'factories', 'to', 'save', 'manual', 'and', 'mental', 'labour', 'as', 'well', 'as', 'for', 'quality', 'control', 'It', 'is', 'also', 'used', 'in', 'various', 'fields', 'of', 'research', 'such', 'as', 'space', 'research', 'Computer', 'courses', 'at', 'various', 'levels', 'are', 'now', 'being', 'introduced', 'in', 'schools', 'and', 'colleges', 'The', 'use', 'of', 'computers', 'in', 'specific', 'fields', 'is', 'required', 'for', 'efficient', 'service']\n"
     ]
    }
   ],
   "source": [
    "print(lst1)"
   ]
  },
  {
   "cell_type": "code",
   "execution_count": 20,
   "id": "24bd115f",
   "metadata": {},
   "outputs": [
    {
     "data": {
      "text/plain": [
       "{}"
      ]
     },
     "execution_count": 20,
     "metadata": {},
     "output_type": "execute_result"
    }
   ],
   "source": [
    "d1={}\n",
    "d1"
   ]
  },
  {
   "cell_type": "code",
   "execution_count": 21,
   "id": "1d0ed1a2",
   "metadata": {},
   "outputs": [
    {
     "name": "stdout",
     "output_type": "stream",
     "text": [
      "{'The': 2, 'computer': 1, 'is': 4, 'a': 3, 'miraculous': 1, 'scientific': 1, 'invention': 1, 'It': 3, 'can': 1, 'store': 1, 'data': 1, 'and': 6, 'perform': 1, 'complex': 1, 'calculations': 1, 'in': 6, 'very': 1, 'short': 1, 'period': 1, 'of': 3, 'time': 1, 'Its': 1, 'primary': 1, 'characteristics': 1, 'are': 2, 'speed': 1, 'accuracy': 1, 'As': 1, 'result': 1, 'computers': 2, 'facilitate': 1, 'quick': 1, 'transactions': 1, 'communication': 1, 'It’s': 1, 'now': 2, 'common': 1, 'schools': 2, 'colleges': 2, 'libraries': 1, 'hospitals': 1, 'offices': 1, 'banks': 1, 'used': 2, 'factories': 1, 'to': 1, 'save': 1, 'manual': 1, 'mental': 1, 'labour': 1, 'as': 3, 'well': 1, 'for': 2, 'quality': 1, 'control': 1, 'also': 1, 'various': 2, 'fields': 2, 'research': 2, 'such': 1, 'space': 1, 'Computer': 1, 'courses': 1, 'at': 1, 'levels': 1, 'being': 1, 'introduced': 1, 'use': 1, 'specific': 1, 'required': 1, 'efficient': 1, 'service': 1}\n"
     ]
    }
   ],
   "source": [
    "for i in lst1:\n",
    "    k=lst1.count(i)\n",
    "    d1.update({i:k})\n",
    "print(d1)"
   ]
  },
  {
   "cell_type": "code",
   "execution_count": 33,
   "id": "6c521383",
   "metadata": {},
   "outputs": [],
   "source": [
    "import pandas as pd"
   ]
  },
  {
   "cell_type": "code",
   "execution_count": 35,
   "id": "7e8d7391",
   "metadata": {},
   "outputs": [
    {
     "data": {
      "text/html": [
       "<div>\n",
       "<style scoped>\n",
       "    .dataframe tbody tr th:only-of-type {\n",
       "        vertical-align: middle;\n",
       "    }\n",
       "\n",
       "    .dataframe tbody tr th {\n",
       "        vertical-align: top;\n",
       "    }\n",
       "\n",
       "    .dataframe thead th {\n",
       "        text-align: right;\n",
       "    }\n",
       "</style>\n",
       "<table border=\"1\" class=\"dataframe\">\n",
       "  <thead>\n",
       "    <tr style=\"text-align: right;\">\n",
       "      <th></th>\n",
       "      <th>0</th>\n",
       "      <th>1</th>\n",
       "    </tr>\n",
       "  </thead>\n",
       "  <tbody>\n",
       "    <tr>\n",
       "      <th>0</th>\n",
       "      <td>The</td>\n",
       "      <td>2</td>\n",
       "    </tr>\n",
       "    <tr>\n",
       "      <th>1</th>\n",
       "      <td>computer</td>\n",
       "      <td>1</td>\n",
       "    </tr>\n",
       "    <tr>\n",
       "      <th>2</th>\n",
       "      <td>is</td>\n",
       "      <td>4</td>\n",
       "    </tr>\n",
       "    <tr>\n",
       "      <th>3</th>\n",
       "      <td>a</td>\n",
       "      <td>3</td>\n",
       "    </tr>\n",
       "    <tr>\n",
       "      <th>4</th>\n",
       "      <td>miraculous</td>\n",
       "      <td>1</td>\n",
       "    </tr>\n",
       "    <tr>\n",
       "      <th>...</th>\n",
       "      <td>...</td>\n",
       "      <td>...</td>\n",
       "    </tr>\n",
       "    <tr>\n",
       "      <th>67</th>\n",
       "      <td>use</td>\n",
       "      <td>1</td>\n",
       "    </tr>\n",
       "    <tr>\n",
       "      <th>68</th>\n",
       "      <td>specific</td>\n",
       "      <td>1</td>\n",
       "    </tr>\n",
       "    <tr>\n",
       "      <th>69</th>\n",
       "      <td>required</td>\n",
       "      <td>1</td>\n",
       "    </tr>\n",
       "    <tr>\n",
       "      <th>70</th>\n",
       "      <td>efficient</td>\n",
       "      <td>1</td>\n",
       "    </tr>\n",
       "    <tr>\n",
       "      <th>71</th>\n",
       "      <td>service</td>\n",
       "      <td>1</td>\n",
       "    </tr>\n",
       "  </tbody>\n",
       "</table>\n",
       "<p>72 rows × 2 columns</p>\n",
       "</div>"
      ],
      "text/plain": [
       "             0  1\n",
       "0          The  2\n",
       "1     computer  1\n",
       "2           is  4\n",
       "3            a  3\n",
       "4   miraculous  1\n",
       "..         ... ..\n",
       "67         use  1\n",
       "68    specific  1\n",
       "69    required  1\n",
       "70   efficient  1\n",
       "71     service  1\n",
       "\n",
       "[72 rows x 2 columns]"
      ]
     },
     "execution_count": 35,
     "metadata": {},
     "output_type": "execute_result"
    }
   ],
   "source": [
    "df=pd.DataFrame(list(d1.items()))\n",
    "df"
   ]
  },
  {
   "cell_type": "code",
   "execution_count": 36,
   "id": "ea77599f",
   "metadata": {},
   "outputs": [
    {
     "data": {
      "text/html": [
       "<div>\n",
       "<style scoped>\n",
       "    .dataframe tbody tr th:only-of-type {\n",
       "        vertical-align: middle;\n",
       "    }\n",
       "\n",
       "    .dataframe tbody tr th {\n",
       "        vertical-align: top;\n",
       "    }\n",
       "\n",
       "    .dataframe thead th {\n",
       "        text-align: right;\n",
       "    }\n",
       "</style>\n",
       "<table border=\"1\" class=\"dataframe\">\n",
       "  <thead>\n",
       "    <tr style=\"text-align: right;\">\n",
       "      <th></th>\n",
       "      <th>0</th>\n",
       "      <th>1</th>\n",
       "    </tr>\n",
       "  </thead>\n",
       "  <tbody>\n",
       "    <tr>\n",
       "      <th>0</th>\n",
       "      <td>The</td>\n",
       "      <td>2</td>\n",
       "    </tr>\n",
       "    <tr>\n",
       "      <th>1</th>\n",
       "      <td>computer</td>\n",
       "      <td>1</td>\n",
       "    </tr>\n",
       "    <tr>\n",
       "      <th>2</th>\n",
       "      <td>is</td>\n",
       "      <td>4</td>\n",
       "    </tr>\n",
       "    <tr>\n",
       "      <th>3</th>\n",
       "      <td>a</td>\n",
       "      <td>3</td>\n",
       "    </tr>\n",
       "    <tr>\n",
       "      <th>4</th>\n",
       "      <td>miraculous</td>\n",
       "      <td>1</td>\n",
       "    </tr>\n",
       "  </tbody>\n",
       "</table>\n",
       "</div>"
      ],
      "text/plain": [
       "            0  1\n",
       "0         The  2\n",
       "1    computer  1\n",
       "2          is  4\n",
       "3           a  3\n",
       "4  miraculous  1"
      ]
     },
     "execution_count": 36,
     "metadata": {},
     "output_type": "execute_result"
    }
   ],
   "source": [
    "df.head()"
   ]
  },
  {
   "cell_type": "code",
   "execution_count": 37,
   "id": "91449847",
   "metadata": {},
   "outputs": [
    {
     "data": {
      "text/html": [
       "<div>\n",
       "<style scoped>\n",
       "    .dataframe tbody tr th:only-of-type {\n",
       "        vertical-align: middle;\n",
       "    }\n",
       "\n",
       "    .dataframe tbody tr th {\n",
       "        vertical-align: top;\n",
       "    }\n",
       "\n",
       "    .dataframe thead th {\n",
       "        text-align: right;\n",
       "    }\n",
       "</style>\n",
       "<table border=\"1\" class=\"dataframe\">\n",
       "  <thead>\n",
       "    <tr style=\"text-align: right;\">\n",
       "      <th></th>\n",
       "      <th>0</th>\n",
       "      <th>1</th>\n",
       "    </tr>\n",
       "  </thead>\n",
       "  <tbody>\n",
       "    <tr>\n",
       "      <th>67</th>\n",
       "      <td>use</td>\n",
       "      <td>1</td>\n",
       "    </tr>\n",
       "    <tr>\n",
       "      <th>68</th>\n",
       "      <td>specific</td>\n",
       "      <td>1</td>\n",
       "    </tr>\n",
       "    <tr>\n",
       "      <th>69</th>\n",
       "      <td>required</td>\n",
       "      <td>1</td>\n",
       "    </tr>\n",
       "    <tr>\n",
       "      <th>70</th>\n",
       "      <td>efficient</td>\n",
       "      <td>1</td>\n",
       "    </tr>\n",
       "    <tr>\n",
       "      <th>71</th>\n",
       "      <td>service</td>\n",
       "      <td>1</td>\n",
       "    </tr>\n",
       "  </tbody>\n",
       "</table>\n",
       "</div>"
      ],
      "text/plain": [
       "            0  1\n",
       "67        use  1\n",
       "68   specific  1\n",
       "69   required  1\n",
       "70  efficient  1\n",
       "71    service  1"
      ]
     },
     "execution_count": 37,
     "metadata": {},
     "output_type": "execute_result"
    }
   ],
   "source": [
    "df.tail()"
   ]
  },
  {
   "cell_type": "code",
   "execution_count": null,
   "id": "1d6b1bde",
   "metadata": {},
   "outputs": [],
   "source": []
  }
 ],
 "metadata": {
  "kernelspec": {
   "display_name": "Python 3 (ipykernel)",
   "language": "python",
   "name": "python3"
  },
  "language_info": {
   "codemirror_mode": {
    "name": "ipython",
    "version": 3
   },
   "file_extension": ".py",
   "mimetype": "text/x-python",
   "name": "python",
   "nbconvert_exporter": "python",
   "pygments_lexer": "ipython3",
   "version": "3.10.9"
  }
 },
 "nbformat": 4,
 "nbformat_minor": 5
}
