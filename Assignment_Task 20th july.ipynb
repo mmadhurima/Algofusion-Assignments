{
 "cells": [
  {
   "cell_type": "markdown",
   "id": "54f19d91",
   "metadata": {},
   "source": [
    "### user defind function to remove punctation marks Task-a"
   ]
  },
  {
   "cell_type": "code",
   "execution_count": 26,
   "id": "b2239781",
   "metadata": {},
   "outputs": [
    {
     "name": "stdout",
     "output_type": "stream",
     "text": [
      "Thanks for nominating for the Airtel opportunity.  This is a great opportunity for Tech roles for ECE students.  Majorly the recruitment will take place for the Hyderabad location. They also have similar opportunities in other Southern Cities/states.\n"
     ]
    },
    {
     "data": {
      "text/plain": [
       "'Thanks for nominating for the Airtel opportunity  This is a great opportunity for Tech roles for ECE students  Majorly the recruitment will take place for the Hyderabad location They also have similar opportunities in other Southern Citiesstates'"
      ]
     },
     "execution_count": 26,
     "metadata": {},
     "output_type": "execute_result"
    }
   ],
   "source": [
    "def remove_punc(x):\n",
    "    punc = '''!\"#$%&\\'()*+,-./:;<=>?@[\\\\]^_`{|}~'''\n",
    "    \n",
    "    str2 = \"\"\n",
    "    \n",
    "    for char in x:\n",
    "        if char not in punc:\n",
    "            str2 = str2 + char\n",
    "            \n",
    "    return str2\n",
    "    \n",
    "str1=input()\n",
    "remove_punc(str1)"
   ]
  },
  {
   "cell_type": "markdown",
   "id": "d6816bed",
   "metadata": {},
   "source": [
    "### user defind function to split words and return as list Task-b"
   ]
  },
  {
   "cell_type": "code",
   "execution_count": 27,
   "id": "479c298e",
   "metadata": {},
   "outputs": [
    {
     "data": {
      "text/plain": [
       "['Thanks',\n",
       " 'for',\n",
       " 'nominating',\n",
       " 'for',\n",
       " 'the',\n",
       " 'Airtel',\n",
       " 'opportunity',\n",
       " 'This',\n",
       " 'is',\n",
       " 'a',\n",
       " 'great',\n",
       " 'opportunity',\n",
       " 'for',\n",
       " 'Tech',\n",
       " 'roles',\n",
       " 'for',\n",
       " 'ECE',\n",
       " 'students',\n",
       " 'Majorly',\n",
       " 'the',\n",
       " 'recruitment',\n",
       " 'will',\n",
       " 'take',\n",
       " 'place',\n",
       " 'for',\n",
       " 'the',\n",
       " 'Hyderabad',\n",
       " 'location',\n",
       " 'They',\n",
       " 'also',\n",
       " 'have',\n",
       " 'similar',\n",
       " 'opportunities',\n",
       " 'in',\n",
       " 'other',\n",
       " 'Southern',\n",
       " 'Citiesstates']"
      ]
     },
     "execution_count": 27,
     "metadata": {},
     "output_type": "execute_result"
    }
   ],
   "source": [
    "def word_split(y):\n",
    "    \n",
    "    L1 = y.split()\n",
    "    return(L1)\n",
    "    \n",
    "str2 = Out[15]\n",
    "word_split(str2)"
   ]
  },
  {
   "cell_type": "markdown",
   "id": "a03c664b",
   "metadata": {},
   "source": [
    "###  user defind function to create a dictionary Task-c"
   ]
  },
  {
   "cell_type": "code",
   "execution_count": 28,
   "id": "16b8dd65",
   "metadata": {},
   "outputs": [
    {
     "data": {
      "text/plain": [
       "{'The': 1,\n",
       " 'practice,': 1,\n",
       " 'action,': 1,\n",
       " 'or': 2,\n",
       " 'system': 1,\n",
       " 'of': 2,\n",
       " 'inserting': 1,\n",
       " 'points': 1,\n",
       " 'other': 1,\n",
       " 'small': 1,\n",
       " 'marks': 1,\n",
       " 'into': 2,\n",
       " 'texts,': 1,\n",
       " 'in': 1,\n",
       " 'order': 1,\n",
       " 'to': 1,\n",
       " 'aid': 1,\n",
       " 'interpretation;': 1,\n",
       " 'division': 1,\n",
       " 'text': 1,\n",
       " 'sentences,': 1,\n",
       " 'clauses,': 1,\n",
       " 'etc.,': 1,\n",
       " 'is': 1,\n",
       " 'called': 1,\n",
       " 'punctuation.': 1}"
      ]
     },
     "execution_count": 28,
     "metadata": {},
     "output_type": "execute_result"
    }
   ],
   "source": [
    "def word_dict(L1):\n",
    "    d1 = {}\n",
    "    for i in L1:\n",
    "        k=L1.count(i)\n",
    "        d1.update({i:k})\n",
    "    return d1\n",
    "x = Out[7]\n",
    "y = list(x)\n",
    "word_dict(y)\n"
   ]
  },
  {
   "cell_type": "markdown",
   "id": "669864f0",
   "metadata": {},
   "source": [
    "###  create a table Task-d"
   ]
  },
  {
   "cell_type": "code",
   "execution_count": 29,
   "id": "7ef15c82",
   "metadata": {},
   "outputs": [
    {
     "ename": "SyntaxError",
     "evalue": "incomplete input (649589850.py, line 2)",
     "output_type": "error",
     "traceback": [
      "\u001b[1;36m  Cell \u001b[1;32mIn[29], line 2\u001b[1;36m\u001b[0m\n\u001b[1;33m    \u001b[0m\n\u001b[1;37m    ^\u001b[0m\n\u001b[1;31mSyntaxError\u001b[0m\u001b[1;31m:\u001b[0m incomplete input\n"
     ]
    }
   ],
   "source": [
    "def word_freq_table(d1):\n",
    "    \n",
    "    "
   ]
  },
  {
   "cell_type": "code",
   "execution_count": null,
   "id": "9d403dd7",
   "metadata": {},
   "outputs": [],
   "source": []
  }
 ],
 "metadata": {
  "kernelspec": {
   "display_name": "Python 3 (ipykernel)",
   "language": "python",
   "name": "python3"
  },
  "language_info": {
   "codemirror_mode": {
    "name": "ipython",
    "version": 3
   },
   "file_extension": ".py",
   "mimetype": "text/x-python",
   "name": "python",
   "nbconvert_exporter": "python",
   "pygments_lexer": "ipython3",
   "version": "3.10.9"
  }
 },
 "nbformat": 4,
 "nbformat_minor": 5
}
